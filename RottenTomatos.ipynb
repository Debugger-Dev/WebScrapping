{
  "nbformat": 4,
  "nbformat_minor": 0,
  "metadata": {
    "colab": {
      "provenance": [],
      "mount_file_id": "10HYuru8uDnPJpn-JTWwlrzoI5bSJPz33",
      "authorship_tag": "ABX9TyMWCEpKAyzAJV42nxIThHjt",
      "include_colab_link": true
    },
    "kernelspec": {
      "name": "python3",
      "display_name": "Python 3"
    },
    "language_info": {
      "name": "python"
    }
  },
  "cells": [
    {
      "cell_type": "markdown",
      "metadata": {
        "id": "view-in-github",
        "colab_type": "text"
      },
      "source": [
        "<a href=\"https://colab.research.google.com/github/Debugger-Dev/WebScrapping/blob/main/RottenTomatos.ipynb\" target=\"_parent\"><img src=\"https://colab.research.google.com/assets/colab-badge.svg\" alt=\"Open In Colab\"/></a>"
      ]
    },
    {
      "cell_type": "code",
      "execution_count": 55,
      "metadata": {
        "id": "WV-ryF8xFHPW"
      },
      "outputs": [],
      "source": [
        "import requests\n",
        "from bs4 import BeautifulSoup\n",
        "import pandas as pd"
      ]
    },
    {
      "cell_type": "code",
      "source": [
        "url='https://editorial.rottentomatoes.com/guide/140-essential-action-movies-to-watch-now/'\n",
        "response=requests.get(url)\n",
        "response"
      ],
      "metadata": {
        "colab": {
          "base_uri": "https://localhost:8080/"
        },
        "id": "Fh12PbZ8GOly",
        "outputId": "ddc0f941-e277-4716-991b-395a8a13cbfa"
      },
      "execution_count": 2,
      "outputs": [
        {
          "output_type": "execute_result",
          "data": {
            "text/plain": [
              "<Response [200]>"
            ]
          },
          "metadata": {},
          "execution_count": 2
        }
      ]
    },
    {
      "cell_type": "code",
      "source": [
        "html=response.content"
      ],
      "metadata": {
        "id": "7OMCuBJVGiSf"
      },
      "execution_count": 3,
      "outputs": []
    },
    {
      "cell_type": "code",
      "source": [
        "soup=BeautifulSoup(html,'lxml')\n",
        "with open('Rotten tomatos action movies_lxml.html','wb') as file:\n",
        "  file.write(soup.prettify('utf-8'))"
      ],
      "metadata": {
        "id": "YgKsNs0zGtQP"
      },
      "execution_count": 4,
      "outputs": []
    },
    {
      "cell_type": "code",
      "source": [
        "divs=soup.find_all('div',{'class':'col-sm-18 col-full-xs countdown-item-content'})\n",
        "divs[0]"
      ],
      "metadata": {
        "id": "T8BreFLGKIVK"
      },
      "execution_count": null,
      "outputs": []
    },
    {
      "cell_type": "code",
      "source": [
        "headings=[div.find('h2') for div in divs]\n",
        "movie_names=[heading.find('a').string for heading in headings]\n",
        "years=[heading.find('span',class_='subtle start-year').string for heading in headings]\n",
        "years=[year.strip(\"()\") for year in years]\n",
        "years_final=[int(year) for year in years]\n",
        "scores=[heading.find('span',class_='tMeterScore').string for heading in headings]\n",
        "scores=[score.strip(\"%\") for score in scores]\n",
        "scores_final=[int(score) for score in scores]"
      ],
      "metadata": {
        "id": "gwVeahfWMppn"
      },
      "execution_count": 57,
      "outputs": []
    },
    {
      "cell_type": "code",
      "source": [
        "#Way1\n",
        "consensus=[div.find(\"div\",{'class':'info critics-consensus'}) for div in divs]\n",
        "common_phrase='Critics Consensus:'\n",
        "con_len=len(common_phrase)\n",
        "consensus_text=[con.text[con_len:] if con.text.startswith(common_phrase) else con.text for con in consensus]\n",
        "consensus_text\n"
      ],
      "metadata": {
        "id": "4jW5NX14Nnq6"
      },
      "execution_count": null,
      "outputs": []
    },
    {
      "cell_type": "code",
      "source": [
        "consensus[0].contents"
      ],
      "metadata": {
        "id": "U0m9de3zV-ks"
      },
      "execution_count": null,
      "outputs": []
    },
    {
      "cell_type": "code",
      "source": [
        "#Way2\n",
        "consensus_txt=[con.contents[1].strip() for con in consensus]\n",
        "consensus_txt"
      ],
      "metadata": {
        "id": "XzENAWWVO2g3"
      },
      "execution_count": null,
      "outputs": []
    },
    {
      "cell_type": "code",
      "source": [
        "directors=[div.find('div',class_='info director') for div in divs]\n",
        "#[director.find(\"a\") for director in directors]\n",
        "#to deal if None va;ue present\n",
        "final_directors=[None if director.find(\"a\") is None else director.find(\"a\").string for director in directors]"
      ],
      "metadata": {
        "id": "KQXr17HXWtfI"
      },
      "execution_count": 10,
      "outputs": []
    },
    {
      "cell_type": "code",
      "source": [
        "cast_info=[div.find(\"div\",class_='info cast') for div in divs]\n",
        "cast_info[0]"
      ],
      "metadata": {
        "colab": {
          "base_uri": "https://localhost:8080/"
        },
        "id": "ZF6eXN21dx-5",
        "outputId": "60676c2a-662f-4cc5-e14c-489f7505b903"
      },
      "execution_count": 11,
      "outputs": [
        {
          "output_type": "execute_result",
          "data": {
            "text/plain": [
              "<div class=\"info cast\">\n",
              "<span class=\"descriptor\">Starring:</span> <a class=\"\" href=\"//www.rottentomatoes.com/celebrity/gregory_hines\">Gregory Hines</a>, <a class=\"\" href=\"//www.rottentomatoes.com/celebrity/billy_crystal\">Billy Crystal</a>, <a class=\"\" href=\"//www.rottentomatoes.com/celebrity/jimmy_smits\">Jimmy Smits</a>, <a class=\"\" href=\"//www.rottentomatoes.com/celebrity/steven_bauer\">Steven Bauer</a></div>"
            ]
          },
          "metadata": {},
          "execution_count": 11
        }
      ]
    },
    {
      "cell_type": "code",
      "source": [
        "cast_links=cast_info[0].find_all('a')\n",
        "cast_names=[link.string for link in cast_links]\n",
        "cast=\",\".join(cast_names)\n",
        "cast"
      ],
      "metadata": {
        "colab": {
          "base_uri": "https://localhost:8080/",
          "height": 36
        },
        "id": "k0WS7y0oDLUg",
        "outputId": "377123ff-2da2-4a55-a24e-80262e6dea8d"
      },
      "execution_count": 16,
      "outputs": [
        {
          "output_type": "execute_result",
          "data": {
            "text/plain": [
              "'Gregory Hines,Billy Crystal,Jimmy Smits,Steven Bauer'"
            ],
            "application/vnd.google.colaboratory.intrinsic+json": {
              "type": "string"
            }
          },
          "metadata": {},
          "execution_count": 16
        }
      ]
    },
    {
      "cell_type": "code",
      "source": [
        "#same but in a different way\n",
        "cast=[\",\".join([link.string for link in c.find_all('a')]) for c in cast_info]\n",
        "cast"
      ],
      "metadata": {
        "id": "jFQUobelDX2G"
      },
      "execution_count": null,
      "outputs": []
    },
    {
      "cell_type": "code",
      "source": [
        "headings[0]"
      ],
      "metadata": {
        "colab": {
          "base_uri": "https://localhost:8080/"
        },
        "id": "mgGMkzAKHKW1",
        "outputId": "fa9530d8-f3da-4ddb-ab55-133bfeeefd1c"
      },
      "execution_count": 29,
      "outputs": [
        {
          "output_type": "execute_result",
          "data": {
            "text/plain": [
              "<h2><a href=\"https://www.rottentomatoes.com/m/1018009-running_scared\">Running Scared</a> <span class=\"subtle start-year\">(1986)</span> <span class=\"icon tiny rotten\" title=\"Rotten\"></span> <span class=\"tMeterScore\">59%</span><span class=\"span-icon-audience\"><img class=\"icon-audience\" height=\"16\" src=\"https://images.fandango.com/cms/assets/cf921970-d359-11ea-a15f-bdf29fa24277--spilled.png\" width=\"16\"/></span><span class=\"tMeterScore\">58%</span></h2>"
            ]
          },
          "metadata": {},
          "execution_count": 29
        }
      ]
    },
    {
      "cell_type": "code",
      "source": [
        "adj_scores=[div.find(\"div\", {\"class\": \"info countdown-adjusted-score\"}) for div in divs]\n",
        "#adj_scores[0].contents[1]\n",
        "adj_score_clean=[score.contents[1].strip(\"% \") for score in adj_scores]\n",
        "adj_score_clean[0]"
      ],
      "metadata": {
        "colab": {
          "base_uri": "https://localhost:8080/",
          "height": 36
        },
        "id": "MpyHxSAZHlp2",
        "outputId": "ef7fd8dc-d163-4ee0-f078-ae1fc8cc473d"
      },
      "execution_count": 45,
      "outputs": [
        {
          "output_type": "execute_result",
          "data": {
            "text/plain": [
              "'53978'"
            ],
            "application/vnd.google.colaboratory.intrinsic+json": {
              "type": "string"
            }
          },
          "metadata": {},
          "execution_count": 45
        }
      ]
    },
    {
      "cell_type": "code",
      "source": [
        "synopsis=[div.find(\"div\",{\"class\":\"info synopsis\"}) for div in divs]\n",
        "#synopsis[2].contents[1]\n",
        "syn_txt=[syn.contents[1] for syn in synopsis]\n",
        "syn_txt[0]"
      ],
      "metadata": {
        "colab": {
          "base_uri": "https://localhost:8080/",
          "height": 36
        },
        "id": "eBpgFLa_NF9I",
        "outputId": "c412a1de-a54f-4610-a7d9-d1ee4901eb53"
      },
      "execution_count": 54,
      "outputs": [
        {
          "output_type": "execute_result",
          "data": {
            "text/plain": [
              "' Ray and Danny (Gregory Hines, Billy Crystal) are two Chicago police detectives hot on the trail of drug kingpin Julio...'"
            ],
            "application/vnd.google.colaboratory.intrinsic+json": {
              "type": "string"
            }
          },
          "metadata": {},
          "execution_count": 54
        }
      ]
    },
    {
      "cell_type": "code",
      "source": [
        "movies_info=pd.DataFrame()\n",
        "\n",
        "movies_info['Movie Title']=movie_names\n",
        "movies_info['Year']=years_final\n",
        "movies_info['Score']=scores_final\n",
        "movies_info['Adjusted Score']=adj_score_clean\n",
        "movies_info['Director']=final_directors\n",
        "movies_info['Synopsis']=syn_txt\n",
        "movies_info['Cast']=cast\n",
        "movies_info['Consensus']=consensus_text\n",
        "\n",
        "movies_info"
      ],
      "metadata": {
        "colab": {
          "base_uri": "https://localhost:8080/",
          "height": 693
        },
        "id": "proTAEf0OR-O",
        "outputId": "9016dadc-d05d-444b-df26-6b6dfa039f81"
      },
      "execution_count": 61,
      "outputs": [
        {
          "output_type": "execute_result",
          "data": {
            "text/plain": [
              "                    Movie Title  Year  Score Adjusted Score          Director  \\\n",
              "0                Running Scared  1986     59          53978       Peter Hyams   \n",
              "1                   Equilibrium  2002     40          42234       Kurt Wimmer   \n",
              "2                          Hero  2002     94         101946       Zhang Yimou   \n",
              "3                    Road House  1989     39          41524  Rowdy Herrington   \n",
              "4                   Unstoppable  2010     87          94027        Tony Scott   \n",
              "..                          ...   ...    ...            ...               ...   \n",
              "135                 Hard-Boiled  1992     94          95514          John Woo   \n",
              "136                  The Matrix  1999     88          94170    Andy Wachowski   \n",
              "137  Terminator 2: Judgment Day  1991     93          97813     James Cameron   \n",
              "138                    Die Hard  1988     94          98933    John McTiernan   \n",
              "139          Mad Max: Fury Road  2015     97         112799     George Miller   \n",
              "\n",
              "                                              Synopsis  \\\n",
              "0     Ray and Danny (Gregory Hines, Billy Crystal) ...   \n",
              "1     In a futuristic world, a regime has eliminate...   \n",
              "2     In this visually arresting martial arts epic ...   \n",
              "3     The Double Deuce is the meanest, loudest and ...   \n",
              "4     When a massive, unmanned locomotive roars out...   \n",
              "..                                                 ...   \n",
              "135   A cop who loses his partner in a shoot-out wi...   \n",
              "136   Neo (Keanu Reeves) believes that Morpheus (La...   \n",
              "137   In this sequel set eleven years after \"The Te...   \n",
              "138   New York City policeman John McClane (Bruce W...   \n",
              "139   Years after the collapse of civilization, the...   \n",
              "\n",
              "                                                  Cast  \\\n",
              "0    Gregory Hines,Billy Crystal,Jimmy Smits,Steven...   \n",
              "1    Christian Bale,Emily Watson,Taye Diggs,Angus M...   \n",
              "2    Jet Li,Tony Leung Chiu Wai,Maggie Cheung Man-y...   \n",
              "3    Patrick Swayze,Kelly Lynch,Sam Elliott,Ben Gaz...   \n",
              "4    Denzel Washington,Chris Pine,Rosario Dawson,Ke...   \n",
              "..                                                 ...   \n",
              "135  Chow Yun-Fat,Bowie Lam,Philip Chan,Tony Leung ...   \n",
              "136  Keanu Reeves,Laurence Fishburne,Carrie-Anne Mo...   \n",
              "137  Arnold Schwarzenegger,Linda Hamilton,Edward Fu...   \n",
              "138  Bruce Willis,Alan Rickman,Bonnie Bedelia,Regin...   \n",
              "139  Tom Hardy,Charlize Theron,Nicholas Hoult,Hugh ...   \n",
              "\n",
              "                                             Consensus  \n",
              "0     Running Scared struggles to strike a consiste...  \n",
              "1     Equilibrium is a reheated mishmash of other s...  \n",
              "2     With death-defying action sequences and epic ...  \n",
              "3     Whether Road House is simply bad or so bad it...  \n",
              "4     As fast, loud, and relentless as the train at...  \n",
              "..                                                 ...  \n",
              "135   Boasting impactful action as well as surprisi...  \n",
              "136   Thanks to the Wachowskis' imaginative vision,...  \n",
              "137   T2 features thrilling action sequences and ey...  \n",
              "138   Its many imitators (and sequels) have never c...  \n",
              "139   With exhilarating action and a surprising amo...  \n",
              "\n",
              "[140 rows x 8 columns]"
            ],
            "text/html": [
              "\n",
              "  <div id=\"df-483c50ea-b46e-4798-af61-6607c0f53fdd\">\n",
              "    <div class=\"colab-df-container\">\n",
              "      <div>\n",
              "<style scoped>\n",
              "    .dataframe tbody tr th:only-of-type {\n",
              "        vertical-align: middle;\n",
              "    }\n",
              "\n",
              "    .dataframe tbody tr th {\n",
              "        vertical-align: top;\n",
              "    }\n",
              "\n",
              "    .dataframe thead th {\n",
              "        text-align: right;\n",
              "    }\n",
              "</style>\n",
              "<table border=\"1\" class=\"dataframe\">\n",
              "  <thead>\n",
              "    <tr style=\"text-align: right;\">\n",
              "      <th></th>\n",
              "      <th>Movie Title</th>\n",
              "      <th>Year</th>\n",
              "      <th>Score</th>\n",
              "      <th>Adjusted Score</th>\n",
              "      <th>Director</th>\n",
              "      <th>Synopsis</th>\n",
              "      <th>Cast</th>\n",
              "      <th>Consensus</th>\n",
              "    </tr>\n",
              "  </thead>\n",
              "  <tbody>\n",
              "    <tr>\n",
              "      <th>0</th>\n",
              "      <td>Running Scared</td>\n",
              "      <td>1986</td>\n",
              "      <td>59</td>\n",
              "      <td>53978</td>\n",
              "      <td>Peter Hyams</td>\n",
              "      <td>Ray and Danny (Gregory Hines, Billy Crystal) ...</td>\n",
              "      <td>Gregory Hines,Billy Crystal,Jimmy Smits,Steven...</td>\n",
              "      <td>Running Scared struggles to strike a consiste...</td>\n",
              "    </tr>\n",
              "    <tr>\n",
              "      <th>1</th>\n",
              "      <td>Equilibrium</td>\n",
              "      <td>2002</td>\n",
              "      <td>40</td>\n",
              "      <td>42234</td>\n",
              "      <td>Kurt Wimmer</td>\n",
              "      <td>In a futuristic world, a regime has eliminate...</td>\n",
              "      <td>Christian Bale,Emily Watson,Taye Diggs,Angus M...</td>\n",
              "      <td>Equilibrium is a reheated mishmash of other s...</td>\n",
              "    </tr>\n",
              "    <tr>\n",
              "      <th>2</th>\n",
              "      <td>Hero</td>\n",
              "      <td>2002</td>\n",
              "      <td>94</td>\n",
              "      <td>101946</td>\n",
              "      <td>Zhang Yimou</td>\n",
              "      <td>In this visually arresting martial arts epic ...</td>\n",
              "      <td>Jet Li,Tony Leung Chiu Wai,Maggie Cheung Man-y...</td>\n",
              "      <td>With death-defying action sequences and epic ...</td>\n",
              "    </tr>\n",
              "    <tr>\n",
              "      <th>3</th>\n",
              "      <td>Road House</td>\n",
              "      <td>1989</td>\n",
              "      <td>39</td>\n",
              "      <td>41524</td>\n",
              "      <td>Rowdy Herrington</td>\n",
              "      <td>The Double Deuce is the meanest, loudest and ...</td>\n",
              "      <td>Patrick Swayze,Kelly Lynch,Sam Elliott,Ben Gaz...</td>\n",
              "      <td>Whether Road House is simply bad or so bad it...</td>\n",
              "    </tr>\n",
              "    <tr>\n",
              "      <th>4</th>\n",
              "      <td>Unstoppable</td>\n",
              "      <td>2010</td>\n",
              "      <td>87</td>\n",
              "      <td>94027</td>\n",
              "      <td>Tony Scott</td>\n",
              "      <td>When a massive, unmanned locomotive roars out...</td>\n",
              "      <td>Denzel Washington,Chris Pine,Rosario Dawson,Ke...</td>\n",
              "      <td>As fast, loud, and relentless as the train at...</td>\n",
              "    </tr>\n",
              "    <tr>\n",
              "      <th>...</th>\n",
              "      <td>...</td>\n",
              "      <td>...</td>\n",
              "      <td>...</td>\n",
              "      <td>...</td>\n",
              "      <td>...</td>\n",
              "      <td>...</td>\n",
              "      <td>...</td>\n",
              "      <td>...</td>\n",
              "    </tr>\n",
              "    <tr>\n",
              "      <th>135</th>\n",
              "      <td>Hard-Boiled</td>\n",
              "      <td>1992</td>\n",
              "      <td>94</td>\n",
              "      <td>95514</td>\n",
              "      <td>John Woo</td>\n",
              "      <td>A cop who loses his partner in a shoot-out wi...</td>\n",
              "      <td>Chow Yun-Fat,Bowie Lam,Philip Chan,Tony Leung ...</td>\n",
              "      <td>Boasting impactful action as well as surprisi...</td>\n",
              "    </tr>\n",
              "    <tr>\n",
              "      <th>136</th>\n",
              "      <td>The Matrix</td>\n",
              "      <td>1999</td>\n",
              "      <td>88</td>\n",
              "      <td>94170</td>\n",
              "      <td>Andy Wachowski</td>\n",
              "      <td>Neo (Keanu Reeves) believes that Morpheus (La...</td>\n",
              "      <td>Keanu Reeves,Laurence Fishburne,Carrie-Anne Mo...</td>\n",
              "      <td>Thanks to the Wachowskis' imaginative vision,...</td>\n",
              "    </tr>\n",
              "    <tr>\n",
              "      <th>137</th>\n",
              "      <td>Terminator 2: Judgment Day</td>\n",
              "      <td>1991</td>\n",
              "      <td>93</td>\n",
              "      <td>97813</td>\n",
              "      <td>James Cameron</td>\n",
              "      <td>In this sequel set eleven years after \"The Te...</td>\n",
              "      <td>Arnold Schwarzenegger,Linda Hamilton,Edward Fu...</td>\n",
              "      <td>T2 features thrilling action sequences and ey...</td>\n",
              "    </tr>\n",
              "    <tr>\n",
              "      <th>138</th>\n",
              "      <td>Die Hard</td>\n",
              "      <td>1988</td>\n",
              "      <td>94</td>\n",
              "      <td>98933</td>\n",
              "      <td>John McTiernan</td>\n",
              "      <td>New York City policeman John McClane (Bruce W...</td>\n",
              "      <td>Bruce Willis,Alan Rickman,Bonnie Bedelia,Regin...</td>\n",
              "      <td>Its many imitators (and sequels) have never c...</td>\n",
              "    </tr>\n",
              "    <tr>\n",
              "      <th>139</th>\n",
              "      <td>Mad Max: Fury Road</td>\n",
              "      <td>2015</td>\n",
              "      <td>97</td>\n",
              "      <td>112799</td>\n",
              "      <td>George Miller</td>\n",
              "      <td>Years after the collapse of civilization, the...</td>\n",
              "      <td>Tom Hardy,Charlize Theron,Nicholas Hoult,Hugh ...</td>\n",
              "      <td>With exhilarating action and a surprising amo...</td>\n",
              "    </tr>\n",
              "  </tbody>\n",
              "</table>\n",
              "<p>140 rows × 8 columns</p>\n",
              "</div>\n",
              "      <button class=\"colab-df-convert\" onclick=\"convertToInteractive('df-483c50ea-b46e-4798-af61-6607c0f53fdd')\"\n",
              "              title=\"Convert this dataframe to an interactive table.\"\n",
              "              style=\"display:none;\">\n",
              "        \n",
              "  <svg xmlns=\"http://www.w3.org/2000/svg\" height=\"24px\"viewBox=\"0 0 24 24\"\n",
              "       width=\"24px\">\n",
              "    <path d=\"M0 0h24v24H0V0z\" fill=\"none\"/>\n",
              "    <path d=\"M18.56 5.44l.94 2.06.94-2.06 2.06-.94-2.06-.94-.94-2.06-.94 2.06-2.06.94zm-11 1L8.5 8.5l.94-2.06 2.06-.94-2.06-.94L8.5 2.5l-.94 2.06-2.06.94zm10 10l.94 2.06.94-2.06 2.06-.94-2.06-.94-.94-2.06-.94 2.06-2.06.94z\"/><path d=\"M17.41 7.96l-1.37-1.37c-.4-.4-.92-.59-1.43-.59-.52 0-1.04.2-1.43.59L10.3 9.45l-7.72 7.72c-.78.78-.78 2.05 0 2.83L4 21.41c.39.39.9.59 1.41.59.51 0 1.02-.2 1.41-.59l7.78-7.78 2.81-2.81c.8-.78.8-2.07 0-2.86zM5.41 20L4 18.59l7.72-7.72 1.47 1.35L5.41 20z\"/>\n",
              "  </svg>\n",
              "      </button>\n",
              "      \n",
              "  <style>\n",
              "    .colab-df-container {\n",
              "      display:flex;\n",
              "      flex-wrap:wrap;\n",
              "      gap: 12px;\n",
              "    }\n",
              "\n",
              "    .colab-df-convert {\n",
              "      background-color: #E8F0FE;\n",
              "      border: none;\n",
              "      border-radius: 50%;\n",
              "      cursor: pointer;\n",
              "      display: none;\n",
              "      fill: #1967D2;\n",
              "      height: 32px;\n",
              "      padding: 0 0 0 0;\n",
              "      width: 32px;\n",
              "    }\n",
              "\n",
              "    .colab-df-convert:hover {\n",
              "      background-color: #E2EBFA;\n",
              "      box-shadow: 0px 1px 2px rgba(60, 64, 67, 0.3), 0px 1px 3px 1px rgba(60, 64, 67, 0.15);\n",
              "      fill: #174EA6;\n",
              "    }\n",
              "\n",
              "    [theme=dark] .colab-df-convert {\n",
              "      background-color: #3B4455;\n",
              "      fill: #D2E3FC;\n",
              "    }\n",
              "\n",
              "    [theme=dark] .colab-df-convert:hover {\n",
              "      background-color: #434B5C;\n",
              "      box-shadow: 0px 1px 3px 1px rgba(0, 0, 0, 0.15);\n",
              "      filter: drop-shadow(0px 1px 2px rgba(0, 0, 0, 0.3));\n",
              "      fill: #FFFFFF;\n",
              "    }\n",
              "  </style>\n",
              "\n",
              "      <script>\n",
              "        const buttonEl =\n",
              "          document.querySelector('#df-483c50ea-b46e-4798-af61-6607c0f53fdd button.colab-df-convert');\n",
              "        buttonEl.style.display =\n",
              "          google.colab.kernel.accessAllowed ? 'block' : 'none';\n",
              "\n",
              "        async function convertToInteractive(key) {\n",
              "          const element = document.querySelector('#df-483c50ea-b46e-4798-af61-6607c0f53fdd');\n",
              "          const dataTable =\n",
              "            await google.colab.kernel.invokeFunction('convertToInteractive',\n",
              "                                                     [key], {});\n",
              "          if (!dataTable) return;\n",
              "\n",
              "          const docLinkHtml = 'Like what you see? Visit the ' +\n",
              "            '<a target=\"_blank\" href=https://colab.research.google.com/notebooks/data_table.ipynb>data table notebook</a>'\n",
              "            + ' to learn more about interactive tables.';\n",
              "          element.innerHTML = '';\n",
              "          dataTable['output_type'] = 'display_data';\n",
              "          await google.colab.output.renderOutput(dataTable, element);\n",
              "          const docLink = document.createElement('div');\n",
              "          docLink.innerHTML = docLinkHtml;\n",
              "          element.appendChild(docLink);\n",
              "        }\n",
              "      </script>\n",
              "    </div>\n",
              "  </div>\n",
              "  "
            ]
          },
          "metadata": {},
          "execution_count": 61
        }
      ]
    },
    {
      "cell_type": "code",
      "source": [
        "#movies_info.to_csv(\"Movies_info.csv\",index=False,header=True)\n",
        "#movies_info.to_excel(\"Movies_info.xlsx\",index=False,header=True)"
      ],
      "metadata": {
        "id": "c_zLahGJQCfT"
      },
      "execution_count": 62,
      "outputs": []
    },
    {
      "cell_type": "code",
      "source": [],
      "metadata": {
        "id": "OxMl6y7_QXhO"
      },
      "execution_count": null,
      "outputs": []
    }
  ]
}